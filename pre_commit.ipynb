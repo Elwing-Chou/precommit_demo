{
  "nbformat": 4,
  "nbformat_minor": 0,
  "metadata": {
    "colab": {
      "provenance": [],
      "authorship_tag": "ABX9TyPtX+0XU3EBQ7p3amywHA/2",
      "include_colab_link": true
    },
    "kernelspec": {
      "name": "python3",
      "display_name": "Python 3"
    },
    "language_info": {
      "name": "python"
    }
  },
  "cells": [
    {
      "cell_type": "markdown",
      "metadata": {
        "id": "view-in-github",
        "colab_type": "text"
      },
      "source": [
        "<a href=\"https://colab.research.google.com/github/Elwing-Chou/precommit_demo/blob/main/pre_commit.ipynb\" target=\"_parent\"><img src=\"https://colab.research.google.com/assets/colab-badge.svg\" alt=\"Open In Colab\"/></a>"
      ]
    },
    {
      "cell_type": "markdown",
      "source": [
        "\n",
        "# 設計實作\n",
        "\n",
        "## 函式庫\n",
        "\n",
        "1.   pre-commit: commit前的check\n",
        "2.   Cerberus: yaml和json格式的進階檢查\n",
        "\n",
        "## Pre-Commit\n",
        "\n",
        "### 產生pre-commit.yaml\n",
        "\n",
        "```\n",
        "pre-commit sample-config > .pre-commit-config.yaml\n",
        "\n",
        "```\n",
        "\n",
        "### local檢查\n",
        "\n",
        "```yaml\n",
        "repos:\n",
        "  - repo: local\n",
        "    hooks:\n",
        "      - id: yaml_nt_conf_check\n",
        "        name: YAML Check For Network Config\n",
        "        entry: python ./conf_check/pre_commit_check.py\n",
        "        language: python\n",
        "        types: [python]\n",
        "        files: \\.yaml$\n",
        "```\n",
        "\n",
        "### (使用者) 產生git pre-commit\n",
        "\n",
        "```\n",
        "pre-commit install --install-hooks\n",
        "```\n",
        "\n",
        "在 clone 後必須input此行指令來產生符合自己環境的pre-coomit, 會出現在.git/hooks/pre-commit\n"
      ],
      "metadata": {
        "id": "-oPeMRgZ3-sb"
      }
    },
    {
      "cell_type": "code",
      "execution_count": null,
      "metadata": {
        "id": "2-t1-rHj38tR"
      },
      "outputs": [],
      "source": []
    },
    {
      "cell_type": "markdown",
      "source": [
        "## Cerberus\n",
        "\n",
        "### 檢查語法文件\n",
        "\n",
        "https://docs.python-cerberus.org/validation-rules.html"
      ],
      "metadata": {
        "id": "ec4DHxexMB_C"
      }
    },
    {
      "cell_type": "code",
      "source": [],
      "metadata": {
        "id": "Y5JrvdUbMQ2r"
      },
      "execution_count": null,
      "outputs": []
    }
  ]
}